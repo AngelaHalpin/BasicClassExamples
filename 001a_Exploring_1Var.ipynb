{
 "cells": [
  {
   "cell_type": "code",
   "execution_count": null,
   "source": [
    "import thinkplot\n",
    "import thinkstats2\n",
    "import pandas as pd\n",
    "import numpy as np"
   ],
   "outputs": [],
   "metadata": {}
  },
  {
   "cell_type": "markdown",
   "source": [
    "I want to find a home in Edmonton. I need your help!\n",
    "\n",
    "We need to start looking at information on home prices so I can start to see if I can afford a house. I've grabbed the property assessment data for all purely residential properties in Edmonton. (In theory this should be the entire population of homes in Edmonton, in reality, it is probably a sample as there's some properties that are oddly classified - e.g. part farm, part residential or BnB, etc...)\n",
    "\n",
    "We should probably start with loading the data into a useful format, the file is in Assessments.csv"
   ],
   "metadata": {}
  },
  {
   "cell_type": "code",
   "execution_count": null,
   "source": [
    "#Load data from CSV and put in a useful data structure"
   ],
   "outputs": [],
   "metadata": {}
  },
  {
   "cell_type": "markdown",
   "source": [
    "The data is all loaded up. We should first figure out what we have..."
   ],
   "metadata": {}
  },
  {
   "cell_type": "code",
   "execution_count": null,
   "source": [
    "#Examine the data. We may want to create another code cell and look at the data in more than one way."
   ],
   "outputs": [],
   "metadata": {}
  },
  {
   "cell_type": "markdown",
   "source": [
    "Price time! I care about dollars and cents, what can you tell me about the prices of homes in Edmonton?"
   ],
   "metadata": {}
  },
  {
   "cell_type": "code",
   "execution_count": null,
   "source": [
    "#Show some insight(s) on the prices of homes in Edmonton"
   ],
   "outputs": [],
   "metadata": {}
  },
  {
   "cell_type": "markdown",
   "source": [
    "I think I want a garage. Are places with garages more expensive?\n",
    "(After completing this, think about if there are any circumstances that are unclear or unaccounted for when we answer this question.)"
   ],
   "metadata": {}
  },
  {
   "cell_type": "code",
   "execution_count": null,
   "source": [
    "#Are garage houses more expensive?"
   ],
   "outputs": [],
   "metadata": {}
  },
  {
   "cell_type": "markdown",
   "source": [
    "We can measure this formally with something called the Effect Size. The function for effect size is in the next cell. "
   ],
   "metadata": {}
  },
  {
   "cell_type": "code",
   "execution_count": null,
   "source": [
    "\n",
    "def CohenEffectSize(group1, group2):\n",
    "    \"\"\"Computes Cohen's effect size for two groups.\n",
    "    \n",
    "    group1: Series or DataFrame\n",
    "    group2: Series or DataFrame\n",
    "    \n",
    "    returns: float if the arguments are Series;\n",
    "             Series if the arguments are DataFrames\n",
    "    \"\"\"\n",
    "    diff = group1.mean() - group2.mean()\n",
    "\n",
    "    var1 = group1.var()\n",
    "    var2 = group2.var()\n",
    "    n1, n2 = len(group1), len(group2)\n",
    "\n",
    "    pooled_var = (n1 * var1 + n2 * var2) / (n1 + n2)\n",
    "    d = diff / np.sqrt(pooled_var)\n",
    "    return d"
   ],
   "outputs": [],
   "metadata": {}
  },
  {
   "cell_type": "markdown",
   "source": [
    "Compute the Cohen Effect Size. Why is this often more useful than just comparing the values like we did above? What can we gather from the value calculated here?"
   ],
   "metadata": {}
  },
  {
   "cell_type": "code",
   "execution_count": null,
   "source": [
    "#Compute Cohen Effect Size"
   ],
   "outputs": [],
   "metadata": {}
  },
  {
   "cell_type": "markdown",
   "source": [
    "All this is cool and all, but I want some more information on how much houses cost. What could be a better way to show this....\n",
    "\n",
    "Can I find a bunch of houses for $100k? $200k? $500k? If I win the lottery, do I have a wide selection of homes that are $10 million?"
   ],
   "metadata": {}
  },
  {
   "cell_type": "code",
   "execution_count": null,
   "source": [
    "#Create a histogram to show prices of homes and the distribution"
   ],
   "outputs": [],
   "metadata": {}
  },
  {
   "cell_type": "markdown",
   "source": [
    "Sweet, that's more helpful. Can we look at how the distribution is for garage vs non-garage?"
   ],
   "metadata": {}
  },
  {
   "cell_type": "code",
   "execution_count": null,
   "source": [
    "#Create double histogram "
   ],
   "outputs": [],
   "metadata": {}
  },
  {
   "cell_type": "markdown",
   "source": [
    "What about the baller houses? There's a few that are really expensive, look more at those that are at least 1 million. "
   ],
   "metadata": {}
  },
  {
   "cell_type": "code",
   "execution_count": null,
   "source": [
    "#Hist of homes over 1 million"
   ],
   "outputs": [],
   "metadata": {}
  },
  {
   "cell_type": "markdown",
   "source": [
    "Helpful!! Thanks so much. Here's some other things to try..."
   ],
   "metadata": {}
  },
  {
   "cell_type": "code",
   "execution_count": null,
   "source": [
    "#Choose two neighborhoods (maybe one you live in, and one you'd like). Calculate the effect size between the two, and graph\n",
    "#the histogram of both. Does this match your real life understanding? "
   ],
   "outputs": [],
   "metadata": {}
  },
  {
   "cell_type": "code",
   "execution_count": null,
   "source": [
    "#The non-garage homes look realllllllly cheap. Is there anything that can explain this?\n",
    "#Is there anything that can be done to make our analysis more representative? "
   ],
   "outputs": [],
   "metadata": {}
  }
 ],
 "metadata": {
  "orig_nbformat": 4,
  "language_info": {
   "name": "python"
  }
 },
 "nbformat": 4,
 "nbformat_minor": 2
}