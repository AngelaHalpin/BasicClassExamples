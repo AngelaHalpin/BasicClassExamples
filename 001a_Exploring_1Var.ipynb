{
 "cells": [
  {
   "cell_type": "code",
   "execution_count": 5,
   "metadata": {},
   "outputs": [],
   "source": [
    "import thinkplot\n",
    "import thinkstats2\n",
    "import pandas as pd\n",
    "import numpy as np"
   ]
  },
  {
   "cell_type": "markdown",
   "metadata": {},
   "source": [
    "I want to find a home in Edmonton. I need your help!\n",
    "\n",
    "We need to start looking at information on home prices so I can start to see if I can afford a house. I've grabbed the property assessment data for all purely residential properties in Edmonton. (In theory this should be the entire population of homes in Edmonton, in reality, it is probably a sample as there's some properties that are oddly classified - e.g. part farm, part residential or BnB, etc...)\n",
    "\n",
    "We should probably start with loading the data into a useful format, the file is in Assessments.csv"
   ]
  },
  {
   "cell_type": "code",
   "execution_count": 6,
   "metadata": {},
   "outputs": [],
   "source": [
    "#Load data from CSV and put in a useful data structure\n",
    "#Grab the CSV\n",
    "df = pd.read_csv(\"Assessments.csv\")"
   ]
  },
  {
   "cell_type": "markdown",
   "metadata": {},
   "source": [
    "The data is all loaded up. We should first figure out what we have..."
   ]
  },
  {
   "cell_type": "code",
   "execution_count": 7,
   "metadata": {},
   "outputs": [
    {
     "data": {
      "text/html": [
       "<div>\n",
       "<style scoped>\n",
       "    .dataframe tbody tr th:only-of-type {\n",
       "        vertical-align: middle;\n",
       "    }\n",
       "\n",
       "    .dataframe tbody tr th {\n",
       "        vertical-align: top;\n",
       "    }\n",
       "\n",
       "    .dataframe thead th {\n",
       "        text-align: right;\n",
       "    }\n",
       "</style>\n",
       "<table border=\"1\" class=\"dataframe\">\n",
       "  <thead>\n",
       "    <tr style=\"text-align: right;\">\n",
       "      <th></th>\n",
       "      <th>Account Number</th>\n",
       "      <th>Suite</th>\n",
       "      <th>House Number</th>\n",
       "      <th>Street Name</th>\n",
       "      <th>Garage</th>\n",
       "      <th>Neighbourhood ID</th>\n",
       "      <th>Neighbourhood</th>\n",
       "      <th>Ward</th>\n",
       "      <th>Assessed Value</th>\n",
       "      <th>Latitude</th>\n",
       "      <th>Longitude</th>\n",
       "    </tr>\n",
       "  </thead>\n",
       "  <tbody>\n",
       "    <tr>\n",
       "      <th>0</th>\n",
       "      <td>1066158</td>\n",
       "      <td>NaN</td>\n",
       "      <td>14904.0</td>\n",
       "      <td>167 AVENUE NW</td>\n",
       "      <td>N</td>\n",
       "      <td>NaN</td>\n",
       "      <td>NaN</td>\n",
       "      <td>NaN</td>\n",
       "      <td>86000</td>\n",
       "      <td>53.630497</td>\n",
       "      <td>-113.580474</td>\n",
       "    </tr>\n",
       "    <tr>\n",
       "      <th>1</th>\n",
       "      <td>10508233</td>\n",
       "      <td>NaN</td>\n",
       "      <td>16340.0</td>\n",
       "      <td>MARK MESSIER TRAIL NW</td>\n",
       "      <td>N</td>\n",
       "      <td>NaN</td>\n",
       "      <td>NaN</td>\n",
       "      <td>NaN</td>\n",
       "      <td>45000</td>\n",
       "      <td>53.617335</td>\n",
       "      <td>-113.605690</td>\n",
       "    </tr>\n",
       "    <tr>\n",
       "      <th>2</th>\n",
       "      <td>1194398</td>\n",
       "      <td>NaN</td>\n",
       "      <td>15617.0</td>\n",
       "      <td>83 STREET NW</td>\n",
       "      <td>N</td>\n",
       "      <td>2050.0</td>\n",
       "      <td>BELLE RIVE</td>\n",
       "      <td>Ward 3</td>\n",
       "      <td>285000</td>\n",
       "      <td>53.617007</td>\n",
       "      <td>-113.467976</td>\n",
       "    </tr>\n",
       "    <tr>\n",
       "      <th>3</th>\n",
       "      <td>1034214</td>\n",
       "      <td>NaN</td>\n",
       "      <td>10661.0</td>\n",
       "      <td>161 AVENUE NW</td>\n",
       "      <td>Y</td>\n",
       "      <td>3040.0</td>\n",
       "      <td>BEAUMARIS</td>\n",
       "      <td>Ward 3</td>\n",
       "      <td>635000</td>\n",
       "      <td>53.619978</td>\n",
       "      <td>-113.506990</td>\n",
       "    </tr>\n",
       "    <tr>\n",
       "      <th>4</th>\n",
       "      <td>1114701</td>\n",
       "      <td>NaN</td>\n",
       "      <td>15003.0</td>\n",
       "      <td>76 AVENUE NW</td>\n",
       "      <td>Y</td>\n",
       "      <td>4430.0</td>\n",
       "      <td>RIO TERRACE</td>\n",
       "      <td>Ward 5</td>\n",
       "      <td>407500</td>\n",
       "      <td>53.508644</td>\n",
       "      <td>-113.579897</td>\n",
       "    </tr>\n",
       "  </tbody>\n",
       "</table>\n",
       "</div>"
      ],
      "text/plain": [
       "   Account Number Suite  House Number            Street Name Garage  \\\n",
       "0         1066158   NaN       14904.0          167 AVENUE NW      N   \n",
       "1        10508233   NaN       16340.0  MARK MESSIER TRAIL NW      N   \n",
       "2         1194398   NaN       15617.0           83 STREET NW      N   \n",
       "3         1034214   NaN       10661.0          161 AVENUE NW      Y   \n",
       "4         1114701   NaN       15003.0           76 AVENUE NW      Y   \n",
       "\n",
       "   Neighbourhood ID Neighbourhood    Ward  Assessed Value   Latitude  \\\n",
       "0               NaN           NaN     NaN           86000  53.630497   \n",
       "1               NaN           NaN     NaN           45000  53.617335   \n",
       "2            2050.0    BELLE RIVE  Ward 3          285000  53.617007   \n",
       "3            3040.0     BEAUMARIS  Ward 3          635000  53.619978   \n",
       "4            4430.0   RIO TERRACE  Ward 5          407500  53.508644   \n",
       "\n",
       "    Longitude  \n",
       "0 -113.580474  \n",
       "1 -113.605690  \n",
       "2 -113.467976  \n",
       "3 -113.506990  \n",
       "4 -113.579897  "
      ]
     },
     "execution_count": 7,
     "metadata": {},
     "output_type": "execute_result"
    }
   ],
   "source": [
    "#Examine the data. We may want to create another code cell and look at the data in more than one way.\n",
    "df.head()"
   ]
  },
  {
   "cell_type": "markdown",
   "metadata": {},
   "source": [
    "Price time! I care about dollars and cents, what can you tell me about the prices of homes in Edmonton?"
   ]
  },
  {
   "cell_type": "code",
   "execution_count": 38,
   "metadata": {},
   "outputs": [
    {
     "data": {
      "text/html": [
       "<div>\n",
       "<style scoped>\n",
       "    .dataframe tbody tr th:only-of-type {\n",
       "        vertical-align: middle;\n",
       "    }\n",
       "\n",
       "    .dataframe tbody tr th {\n",
       "        vertical-align: top;\n",
       "    }\n",
       "\n",
       "    .dataframe thead th {\n",
       "        text-align: right;\n",
       "    }\n",
       "</style>\n",
       "<table border=\"1\" class=\"dataframe\">\n",
       "  <thead>\n",
       "    <tr style=\"text-align: right;\">\n",
       "      <th></th>\n",
       "      <th>Account Number</th>\n",
       "      <th>Suite</th>\n",
       "      <th>House Number</th>\n",
       "      <th>Street Name</th>\n",
       "      <th>Garage</th>\n",
       "      <th>Neighbourhood ID</th>\n",
       "      <th>Neighbourhood</th>\n",
       "      <th>Ward</th>\n",
       "      <th>Assessed Value</th>\n",
       "      <th>Latitude</th>\n",
       "      <th>Longitude</th>\n",
       "    </tr>\n",
       "  </thead>\n",
       "  <tbody>\n",
       "    <tr>\n",
       "      <th>count</th>\n",
       "      <td>3.842170e+05</td>\n",
       "      <td>80043</td>\n",
       "      <td>342008.000000</td>\n",
       "      <td>342008</td>\n",
       "      <td>384217</td>\n",
       "      <td>384213.000000</td>\n",
       "      <td>384213</td>\n",
       "      <td>384213</td>\n",
       "      <td>3.842170e+05</td>\n",
       "      <td>384217.000000</td>\n",
       "      <td>384217.000000</td>\n",
       "    </tr>\n",
       "    <tr>\n",
       "      <th>unique</th>\n",
       "      <td>NaN</td>\n",
       "      <td>1899</td>\n",
       "      <td>NaN</td>\n",
       "      <td>2765</td>\n",
       "      <td>2</td>\n",
       "      <td>NaN</td>\n",
       "      <td>345</td>\n",
       "      <td>12</td>\n",
       "      <td>NaN</td>\n",
       "      <td>NaN</td>\n",
       "      <td>NaN</td>\n",
       "    </tr>\n",
       "    <tr>\n",
       "      <th>top</th>\n",
       "      <td>NaN</td>\n",
       "      <td>202</td>\n",
       "      <td>NaN</td>\n",
       "      <td>104 STREET NW</td>\n",
       "      <td>Y</td>\n",
       "      <td>NaN</td>\n",
       "      <td>OLIVER</td>\n",
       "      <td>Ward 9</td>\n",
       "      <td>NaN</td>\n",
       "      <td>NaN</td>\n",
       "      <td>NaN</td>\n",
       "    </tr>\n",
       "    <tr>\n",
       "      <th>freq</th>\n",
       "      <td>NaN</td>\n",
       "      <td>979</td>\n",
       "      <td>NaN</td>\n",
       "      <td>2034</td>\n",
       "      <td>235286</td>\n",
       "      <td>NaN</td>\n",
       "      <td>11380</td>\n",
       "      <td>51837</td>\n",
       "      <td>NaN</td>\n",
       "      <td>NaN</td>\n",
       "      <td>NaN</td>\n",
       "    </tr>\n",
       "    <tr>\n",
       "      <th>mean</th>\n",
       "      <td>7.813424e+06</td>\n",
       "      <td>NaN</td>\n",
       "      <td>7663.119035</td>\n",
       "      <td>NaN</td>\n",
       "      <td>NaN</td>\n",
       "      <td>4270.033703</td>\n",
       "      <td>NaN</td>\n",
       "      <td>NaN</td>\n",
       "      <td>3.084198e+05</td>\n",
       "      <td>53.518421</td>\n",
       "      <td>-113.512491</td>\n",
       "    </tr>\n",
       "    <tr>\n",
       "      <th>std</th>\n",
       "      <td>3.232763e+06</td>\n",
       "      <td>NaN</td>\n",
       "      <td>5439.436817</td>\n",
       "      <td>NaN</td>\n",
       "      <td>NaN</td>\n",
       "      <td>1748.172894</td>\n",
       "      <td>NaN</td>\n",
       "      <td>NaN</td>\n",
       "      <td>2.837778e+05</td>\n",
       "      <td>0.068403</td>\n",
       "      <td>0.082829</td>\n",
       "    </tr>\n",
       "    <tr>\n",
       "      <th>min</th>\n",
       "      <td>1.001163e+06</td>\n",
       "      <td>NaN</td>\n",
       "      <td>1.000000</td>\n",
       "      <td>NaN</td>\n",
       "      <td>NaN</td>\n",
       "      <td>1010.000000</td>\n",
       "      <td>NaN</td>\n",
       "      <td>NaN</td>\n",
       "      <td>0.000000e+00</td>\n",
       "      <td>53.338595</td>\n",
       "      <td>-113.712930</td>\n",
       "    </tr>\n",
       "    <tr>\n",
       "      <th>25%</th>\n",
       "      <td>4.584405e+06</td>\n",
       "      <td>NaN</td>\n",
       "      <td>2504.000000</td>\n",
       "      <td>NaN</td>\n",
       "      <td>NaN</td>\n",
       "      <td>2660.000000</td>\n",
       "      <td>NaN</td>\n",
       "      <td>NaN</td>\n",
       "      <td>1.700000e+05</td>\n",
       "      <td>53.458619</td>\n",
       "      <td>-113.569078</td>\n",
       "    </tr>\n",
       "    <tr>\n",
       "      <th>50%</th>\n",
       "      <td>9.966988e+06</td>\n",
       "      <td>NaN</td>\n",
       "      <td>7916.000000</td>\n",
       "      <td>NaN</td>\n",
       "      <td>NaN</td>\n",
       "      <td>4540.000000</td>\n",
       "      <td>NaN</td>\n",
       "      <td>NaN</td>\n",
       "      <td>3.055000e+05</td>\n",
       "      <td>53.519813</td>\n",
       "      <td>-113.510520</td>\n",
       "    </tr>\n",
       "    <tr>\n",
       "      <th>75%</th>\n",
       "      <td>1.017294e+07</td>\n",
       "      <td>NaN</td>\n",
       "      <td>11425.000000</td>\n",
       "      <td>NaN</td>\n",
       "      <td>NaN</td>\n",
       "      <td>5576.000000</td>\n",
       "      <td>NaN</td>\n",
       "      <td>NaN</td>\n",
       "      <td>3.975000e+05</td>\n",
       "      <td>53.574187</td>\n",
       "      <td>-113.447708</td>\n",
       "    </tr>\n",
       "    <tr>\n",
       "      <th>max</th>\n",
       "      <td>1.101388e+07</td>\n",
       "      <td>NaN</td>\n",
       "      <td>51175.000000</td>\n",
       "      <td>NaN</td>\n",
       "      <td>NaN</td>\n",
       "      <td>8888.000000</td>\n",
       "      <td>NaN</td>\n",
       "      <td>NaN</td>\n",
       "      <td>4.391150e+07</td>\n",
       "      <td>53.715150</td>\n",
       "      <td>-113.278441</td>\n",
       "    </tr>\n",
       "  </tbody>\n",
       "</table>\n",
       "</div>"
      ],
      "text/plain": [
       "        Account Number  Suite   House Number    Street Name  Garage  \\\n",
       "count     3.842170e+05  80043  342008.000000         342008  384217   \n",
       "unique             NaN   1899            NaN           2765       2   \n",
       "top                NaN    202            NaN  104 STREET NW       Y   \n",
       "freq               NaN    979            NaN           2034  235286   \n",
       "mean      7.813424e+06    NaN    7663.119035            NaN     NaN   \n",
       "std       3.232763e+06    NaN    5439.436817            NaN     NaN   \n",
       "min       1.001163e+06    NaN       1.000000            NaN     NaN   \n",
       "25%       4.584405e+06    NaN    2504.000000            NaN     NaN   \n",
       "50%       9.966988e+06    NaN    7916.000000            NaN     NaN   \n",
       "75%       1.017294e+07    NaN   11425.000000            NaN     NaN   \n",
       "max       1.101388e+07    NaN   51175.000000            NaN     NaN   \n",
       "\n",
       "        Neighbourhood ID Neighbourhood    Ward  Assessed Value       Latitude  \\\n",
       "count      384213.000000        384213  384213    3.842170e+05  384217.000000   \n",
       "unique               NaN           345      12             NaN            NaN   \n",
       "top                  NaN        OLIVER  Ward 9             NaN            NaN   \n",
       "freq                 NaN         11380   51837             NaN            NaN   \n",
       "mean         4270.033703           NaN     NaN    3.084198e+05      53.518421   \n",
       "std          1748.172894           NaN     NaN    2.837778e+05       0.068403   \n",
       "min          1010.000000           NaN     NaN    0.000000e+00      53.338595   \n",
       "25%          2660.000000           NaN     NaN    1.700000e+05      53.458619   \n",
       "50%          4540.000000           NaN     NaN    3.055000e+05      53.519813   \n",
       "75%          5576.000000           NaN     NaN    3.975000e+05      53.574187   \n",
       "max          8888.000000           NaN     NaN    4.391150e+07      53.715150   \n",
       "\n",
       "            Longitude  \n",
       "count   384217.000000  \n",
       "unique            NaN  \n",
       "top               NaN  \n",
       "freq              NaN  \n",
       "mean      -113.512491  \n",
       "std          0.082829  \n",
       "min       -113.712930  \n",
       "25%       -113.569078  \n",
       "50%       -113.510520  \n",
       "75%       -113.447708  \n",
       "max       -113.278441  "
      ]
     },
     "execution_count": 38,
     "metadata": {},
     "output_type": "execute_result"
    }
   ],
   "source": [
    "#Show some insight(s) on the prices of homes in Edmonton\n",
    "#Note : you can add this on the end of stuff to remove scientific notation.\n",
    "#It isn't universal, but should work for what your solution is: .apply(lambda x: format(x, 'f'))\n",
    "#df[\"Assessed Value\"].mean()\n",
    "df.describe(include=\"all\")"
   ]
  },
  {
   "cell_type": "code",
   "execution_count": 15,
   "metadata": {},
   "outputs": [
    {
     "data": {
      "text/plain": [
       "count      384217.000000\n",
       "mean       308419.780150\n",
       "std        283777.814736\n",
       "min             0.000000\n",
       "25%        170000.000000\n",
       "50%        305500.000000\n",
       "75%        397500.000000\n",
       "max      43911500.000000\n",
       "Name: Assessed Value, dtype: object"
      ]
     },
     "execution_count": 15,
     "metadata": {},
     "output_type": "execute_result"
    }
   ],
   "source": [
    "# Show insights on the prices of homes\n",
    "df[\"Assessed Value\"].describe().apply(lambda x: format(x, 'f'))\n",
    "# the .apply(lambda x: format(x, 'f') is so can change the numbers in the column from scientific notation.\n",
    "# he found it on google and I think I can only do it for one column, not a whole table if all different data."
   ]
  },
  {
   "cell_type": "markdown",
   "metadata": {},
   "source": [
    "I think I want a garage. Are places with garages more expensive?\n",
    "(After completing this, think about if there are any circumstances that are unclear or unaccounted for when we answer this question.)"
   ]
  },
  {
   "cell_type": "code",
   "execution_count": 21,
   "metadata": {},
   "outputs": [],
   "source": [
    "# Are garage houses more expensive?\n",
    "gar = df[df[\"Garage\"]==\"Y\"]\n",
    "noGar = df[df[\"Garage\"]==\"N\"]"
   ]
  },
  {
   "cell_type": "code",
   "execution_count": 17,
   "metadata": {},
   "outputs": [
    {
     "data": {
      "text/html": [
       "<div>\n",
       "<style scoped>\n",
       "    .dataframe tbody tr th:only-of-type {\n",
       "        vertical-align: middle;\n",
       "    }\n",
       "\n",
       "    .dataframe tbody tr th {\n",
       "        vertical-align: top;\n",
       "    }\n",
       "\n",
       "    .dataframe thead th {\n",
       "        text-align: right;\n",
       "    }\n",
       "</style>\n",
       "<table border=\"1\" class=\"dataframe\">\n",
       "  <thead>\n",
       "    <tr style=\"text-align: right;\">\n",
       "      <th></th>\n",
       "      <th>Account Number</th>\n",
       "      <th>Suite</th>\n",
       "      <th>House Number</th>\n",
       "      <th>Street Name</th>\n",
       "      <th>Garage</th>\n",
       "      <th>Neighbourhood ID</th>\n",
       "      <th>Neighbourhood</th>\n",
       "      <th>Ward</th>\n",
       "      <th>Assessed Value</th>\n",
       "      <th>Latitude</th>\n",
       "      <th>Longitude</th>\n",
       "    </tr>\n",
       "  </thead>\n",
       "  <tbody>\n",
       "    <tr>\n",
       "      <th>3</th>\n",
       "      <td>1034214</td>\n",
       "      <td>NaN</td>\n",
       "      <td>10661.0</td>\n",
       "      <td>161 AVENUE NW</td>\n",
       "      <td>Y</td>\n",
       "      <td>3040.0</td>\n",
       "      <td>BEAUMARIS</td>\n",
       "      <td>Ward 3</td>\n",
       "      <td>635000</td>\n",
       "      <td>53.619978</td>\n",
       "      <td>-113.506990</td>\n",
       "    </tr>\n",
       "    <tr>\n",
       "      <th>4</th>\n",
       "      <td>1114701</td>\n",
       "      <td>NaN</td>\n",
       "      <td>15003.0</td>\n",
       "      <td>76 AVENUE NW</td>\n",
       "      <td>Y</td>\n",
       "      <td>4430.0</td>\n",
       "      <td>RIO TERRACE</td>\n",
       "      <td>Ward 5</td>\n",
       "      <td>407500</td>\n",
       "      <td>53.508644</td>\n",
       "      <td>-113.579897</td>\n",
       "    </tr>\n",
       "    <tr>\n",
       "      <th>5</th>\n",
       "      <td>1012277</td>\n",
       "      <td>NaN</td>\n",
       "      <td>15110.0</td>\n",
       "      <td>45 AVENUE NW</td>\n",
       "      <td>Y</td>\n",
       "      <td>5340.0</td>\n",
       "      <td>RAMSAY HEIGHTS</td>\n",
       "      <td>Ward 9</td>\n",
       "      <td>306500</td>\n",
       "      <td>53.484560</td>\n",
       "      <td>-113.581913</td>\n",
       "    </tr>\n",
       "    <tr>\n",
       "      <th>6</th>\n",
       "      <td>1191246</td>\n",
       "      <td>NaN</td>\n",
       "      <td>17407.0</td>\n",
       "      <td>92 STREET NW</td>\n",
       "      <td>Y</td>\n",
       "      <td>2450.0</td>\n",
       "      <td>LAGO LINDO</td>\n",
       "      <td>Ward 3</td>\n",
       "      <td>342500</td>\n",
       "      <td>53.636045</td>\n",
       "      <td>-113.482938</td>\n",
       "    </tr>\n",
       "    <tr>\n",
       "      <th>7</th>\n",
       "      <td>1298470</td>\n",
       "      <td>NaN</td>\n",
       "      <td>9347.0</td>\n",
       "      <td>167A AVENUE NW</td>\n",
       "      <td>Y</td>\n",
       "      <td>2450.0</td>\n",
       "      <td>LAGO LINDO</td>\n",
       "      <td>Ward 3</td>\n",
       "      <td>305000</td>\n",
       "      <td>53.629140</td>\n",
       "      <td>-113.486732</td>\n",
       "    </tr>\n",
       "  </tbody>\n",
       "</table>\n",
       "</div>"
      ],
      "text/plain": [
       "   Account Number Suite  House Number     Street Name Garage  \\\n",
       "3         1034214   NaN       10661.0   161 AVENUE NW      Y   \n",
       "4         1114701   NaN       15003.0    76 AVENUE NW      Y   \n",
       "5         1012277   NaN       15110.0    45 AVENUE NW      Y   \n",
       "6         1191246   NaN       17407.0    92 STREET NW      Y   \n",
       "7         1298470   NaN        9347.0  167A AVENUE NW      Y   \n",
       "\n",
       "   Neighbourhood ID   Neighbourhood    Ward  Assessed Value   Latitude  \\\n",
       "3            3040.0       BEAUMARIS  Ward 3          635000  53.619978   \n",
       "4            4430.0     RIO TERRACE  Ward 5          407500  53.508644   \n",
       "5            5340.0  RAMSAY HEIGHTS  Ward 9          306500  53.484560   \n",
       "6            2450.0      LAGO LINDO  Ward 3          342500  53.636045   \n",
       "7            2450.0      LAGO LINDO  Ward 3          305000  53.629140   \n",
       "\n",
       "    Longitude  \n",
       "3 -113.506990  \n",
       "4 -113.579897  \n",
       "5 -113.581913  \n",
       "6 -113.482938  \n",
       "7 -113.486732  "
      ]
     },
     "execution_count": 17,
     "metadata": {},
     "output_type": "execute_result"
    }
   ],
   "source": [
    "gar.head()"
   ]
  },
  {
   "cell_type": "code",
   "execution_count": 18,
   "metadata": {},
   "outputs": [
    {
     "data": {
      "text/html": [
       "<div>\n",
       "<style scoped>\n",
       "    .dataframe tbody tr th:only-of-type {\n",
       "        vertical-align: middle;\n",
       "    }\n",
       "\n",
       "    .dataframe tbody tr th {\n",
       "        vertical-align: top;\n",
       "    }\n",
       "\n",
       "    .dataframe thead th {\n",
       "        text-align: right;\n",
       "    }\n",
       "</style>\n",
       "<table border=\"1\" class=\"dataframe\">\n",
       "  <thead>\n",
       "    <tr style=\"text-align: right;\">\n",
       "      <th></th>\n",
       "      <th>Account Number</th>\n",
       "      <th>Suite</th>\n",
       "      <th>House Number</th>\n",
       "      <th>Street Name</th>\n",
       "      <th>Garage</th>\n",
       "      <th>Neighbourhood ID</th>\n",
       "      <th>Neighbourhood</th>\n",
       "      <th>Ward</th>\n",
       "      <th>Assessed Value</th>\n",
       "      <th>Latitude</th>\n",
       "      <th>Longitude</th>\n",
       "    </tr>\n",
       "  </thead>\n",
       "  <tbody>\n",
       "    <tr>\n",
       "      <th>0</th>\n",
       "      <td>1066158</td>\n",
       "      <td>NaN</td>\n",
       "      <td>14904.0</td>\n",
       "      <td>167 AVENUE NW</td>\n",
       "      <td>N</td>\n",
       "      <td>NaN</td>\n",
       "      <td>NaN</td>\n",
       "      <td>NaN</td>\n",
       "      <td>86000</td>\n",
       "      <td>53.630497</td>\n",
       "      <td>-113.580474</td>\n",
       "    </tr>\n",
       "    <tr>\n",
       "      <th>1</th>\n",
       "      <td>10508233</td>\n",
       "      <td>NaN</td>\n",
       "      <td>16340.0</td>\n",
       "      <td>MARK MESSIER TRAIL NW</td>\n",
       "      <td>N</td>\n",
       "      <td>NaN</td>\n",
       "      <td>NaN</td>\n",
       "      <td>NaN</td>\n",
       "      <td>45000</td>\n",
       "      <td>53.617335</td>\n",
       "      <td>-113.605690</td>\n",
       "    </tr>\n",
       "    <tr>\n",
       "      <th>2</th>\n",
       "      <td>1194398</td>\n",
       "      <td>NaN</td>\n",
       "      <td>15617.0</td>\n",
       "      <td>83 STREET NW</td>\n",
       "      <td>N</td>\n",
       "      <td>2050.0</td>\n",
       "      <td>BELLE RIVE</td>\n",
       "      <td>Ward 3</td>\n",
       "      <td>285000</td>\n",
       "      <td>53.617007</td>\n",
       "      <td>-113.467976</td>\n",
       "    </tr>\n",
       "    <tr>\n",
       "      <th>9</th>\n",
       "      <td>1222595</td>\n",
       "      <td>NaN</td>\n",
       "      <td>9000.0</td>\n",
       "      <td>168 STREET NW</td>\n",
       "      <td>N</td>\n",
       "      <td>4590.0</td>\n",
       "      <td>WEST MEADOWLARK PARK</td>\n",
       "      <td>Ward 1</td>\n",
       "      <td>357500</td>\n",
       "      <td>53.525299</td>\n",
       "      <td>-113.612953</td>\n",
       "    </tr>\n",
       "    <tr>\n",
       "      <th>10</th>\n",
       "      <td>1286483</td>\n",
       "      <td>910</td>\n",
       "      <td>10145.0</td>\n",
       "      <td>121 STREET NW</td>\n",
       "      <td>N</td>\n",
       "      <td>1150.0</td>\n",
       "      <td>OLIVER</td>\n",
       "      <td>Ward 6</td>\n",
       "      <td>120500</td>\n",
       "      <td>53.542162</td>\n",
       "      <td>-113.530183</td>\n",
       "    </tr>\n",
       "  </tbody>\n",
       "</table>\n",
       "</div>"
      ],
      "text/plain": [
       "    Account Number Suite  House Number            Street Name Garage  \\\n",
       "0          1066158   NaN       14904.0          167 AVENUE NW      N   \n",
       "1         10508233   NaN       16340.0  MARK MESSIER TRAIL NW      N   \n",
       "2          1194398   NaN       15617.0           83 STREET NW      N   \n",
       "9          1222595   NaN        9000.0          168 STREET NW      N   \n",
       "10         1286483   910       10145.0          121 STREET NW      N   \n",
       "\n",
       "    Neighbourhood ID         Neighbourhood    Ward  Assessed Value   Latitude  \\\n",
       "0                NaN                   NaN     NaN           86000  53.630497   \n",
       "1                NaN                   NaN     NaN           45000  53.617335   \n",
       "2             2050.0            BELLE RIVE  Ward 3          285000  53.617007   \n",
       "9             4590.0  WEST MEADOWLARK PARK  Ward 1          357500  53.525299   \n",
       "10            1150.0                OLIVER  Ward 6          120500  53.542162   \n",
       "\n",
       "     Longitude  \n",
       "0  -113.580474  \n",
       "1  -113.605690  \n",
       "2  -113.467976  \n",
       "9  -113.612953  \n",
       "10 -113.530183  "
      ]
     },
     "execution_count": 18,
     "metadata": {},
     "output_type": "execute_result"
    }
   ],
   "source": [
    "noGar.head()"
   ]
  },
  {
   "cell_type": "markdown",
   "metadata": {},
   "source": [
    "1. Make list of all houses with garage\n",
    "2. Make list of all houses without garage\n",
    "3. Take average of each\n",
    "4. Compare the two averages"
   ]
  },
  {
   "cell_type": "code",
   "execution_count": 40,
   "metadata": {},
   "outputs": [
    {
     "name": "stdout",
     "output_type": "stream",
     "text": [
      "count      235286.000000\n",
      "mean       409798.316389\n",
      "std        206398.749871\n",
      "min             0.000000\n",
      "25%        309500.000000\n",
      "50%        368500.000000\n",
      "75%        453500.000000\n",
      "max      12294500.000000\n",
      "Name: Assessed Value, dtype: object\n",
      "count      148931.000000\n",
      "mean       148258.696980\n",
      "std        313948.854593\n",
      "min             0.000000\n",
      "25%         11500.000000\n",
      "50%        143500.000000\n",
      "75%        202000.000000\n",
      "max      43911500.000000\n",
      "Name: Assessed Value, dtype: object\n"
     ]
    }
   ],
   "source": [
    "#Are garage houses more expensive?\n",
    "\n",
    "#Create list of garage houses\n",
    "print(gar[\"Assessed Value\"].describe().apply(lambda x: format(x, 'f')))\n",
    "#Create list of non-garage houses\n",
    "print(noGar[\"Assessed Value\"].describe().apply(lambda x: format(x, 'f')))"
   ]
  },
  {
   "cell_type": "code",
   "execution_count": 23,
   "metadata": {},
   "outputs": [
    {
     "name": "stdout",
     "output_type": "stream",
     "text": [
      "308419.78015027964\n",
      "409798.3163894154\n",
      "148258.6969804809\n"
     ]
    }
   ],
   "source": [
    "#Take means\n",
    "#Take mean of a dataframe column\n",
    "print(df[\"Assessed Value\"].mean())\n",
    "print(gar[\"Assessed Value\"].mean())\n",
    "print(noGar[\"Assessed Value\"].mean())\n",
    "#compare means\n",
    "#sutract two numbers\n"
   ]
  },
  {
   "cell_type": "markdown",
   "metadata": {},
   "source": [
    "We can measure this formally with something called the Effect Size. The function for effect size is in the next cell. "
   ]
  },
  {
   "cell_type": "code",
   "execution_count": 24,
   "metadata": {},
   "outputs": [],
   "source": [
    "\n",
    "def CohenEffectSize(group1, group2):\n",
    "    \"\"\"Computes Cohen's effect size for two groups.\n",
    "    \n",
    "    group1: Series or DataFrame\n",
    "    group2: Series or DataFrame\n",
    "    \n",
    "    returns: float if the arguments are Series;\n",
    "             Series if the arguments are DataFrames\n",
    "    \"\"\"\n",
    "    diff = group1.mean() - group2.mean()\n",
    "\n",
    "    var1 = group1.var()\n",
    "    var2 = group2.var()\n",
    "    n1, n2 = len(group1), len(group2)\n",
    "\n",
    "    pooled_var = (n1 * var1 + n2 * var2) / (n1 + n2)\n",
    "    d = diff / np.sqrt(pooled_var)\n",
    "    return d"
   ]
  },
  {
   "cell_type": "markdown",
   "metadata": {},
   "source": [
    "Compute the Cohen Effect Size. Why is this often more useful than just comparing the values like we did above? What can we gather from the value calculated here?"
   ]
  },
  {
   "cell_type": "code",
   "execution_count": 25,
   "metadata": {},
   "outputs": [
    {
     "data": {
      "text/plain": [
       "1.031466841152849"
      ]
     },
     "execution_count": 25,
     "metadata": {},
     "output_type": "execute_result"
    }
   ],
   "source": [
    "#Compute Cohen Effect Size\n",
    "CohenEffectSize(gar[\"Assessed Value\"], noGar[\"Assessed Value\"])"
   ]
  },
  {
   "cell_type": "markdown",
   "metadata": {},
   "source": [
    "All this is cool and all, but I want some more information on how much houses cost. What could be a better way to show this....\n",
    "\n",
    "Can I find a bunch of houses for $100k? $200k? $500k? If I win the lottery, do I have a wide selection of homes that are $10 million?"
   ]
  },
  {
   "cell_type": "markdown",
   "metadata": {},
   "source": [
    "The book provides a helper to make histograms easier. This code is the basic way to create one, we can adapt it to any data:\n",
    "\n",
    "Hist_object = thinkstats2.Hist(\"The data you want\", label=\"What you want to label it\")\n",
    "thinkplot.PrePlot(1) #How many 'things' are going to be graphed\n",
    "thinkplot.Hist(Hist_object)\n",
    "thinkplot.Config(xlabel=\"xaxis label\", ylabel=\"yaxis label\", xlim=[0,500000], ylim=[0,15000])"
   ]
  },
  {
   "cell_type": "code",
   "execution_count": 29,
   "metadata": {},
   "outputs": [],
   "source": [
    "#Create a histogram to show prices of homes and the distribution\n",
    "# we need to carve out some data so I want all 3 assessesed value columns\n",
    "# so need to make some variables for the main, garage and no garage.\n",
    "allPrice = round(df[\"Assessed Value\"], -4)\n",
    "garPrice = round(gar[\"Assessed Value\"], -4)\n",
    "noGarPrice = round(noGar[\"Assessed Value\"], -4)"
   ]
  },
  {
   "cell_type": "code",
   "execution_count": 30,
   "metadata": {},
   "outputs": [
    {
     "data": {
      "image/png": "[encoded data removed]",
      "text/plain": [
       "<Figure size 432x288 with 1 Axes>"
      ]
     },
     "metadata": {
      "needs_background": "light"
     },
     "output_type": "display_data"
    }
   ],
   "source": [
    "all_hist = thinkstats2.Hist(allPrice.sort_values(), label=\"Prices\")\n",
    "thinkplot.PrePlot(1)\n",
    "thinkplot.Hist(all_hist)\n",
    "thinkplot.Config(xlabel=\"price\", ylabel=\"count\", xlim=[0,500000], ylim=[0,15000])\n",
    "#all_hist"
   ]
  },
  {
   "cell_type": "code",
   "execution_count": 44,
   "metadata": {},
   "outputs": [
    {
     "data": {
      "text/plain": [
       "Hist({10000: 33285, 320000: 12206, 300000: 11816, 340000: 11484, 360000: 11230, 310000: 10868, 350000: 10614, 330000: 10216, 380000: 9897, 370000: 9753, 290000: 9717, 0: 9492, 280000: 9452, 160000: 8916, 400000: 8123, 390000: 7977, 270000: 7575, 150000: 7269, 170000: 7262, 260000: 6922, 180000: 6913, 410000: 6656, 420000: 6648, 250000: 6351, 240000: 6227, 140000: 6079, 200000: 5897, 430000: 5694, 190000: 5683, 440000: 5664, 220000: 5522, 210000: 5175, 460000: 5025, 230000: 5003, 450000: 4888, 130000: 4738, 480000: 4330, 470000: 4305, 120000: 4294, 490000: 3566, 500000: 3471, 110000: 3026, 100000: 2872, 510000: 2814, 520000: 2748, 80000: 2614, 90000: 2308, 530000: 2249, 540000: 2172, 70000: 2059, 20000: 1898, 550000: 1895, 560000: 1747, 60000: 1541, 580000: 1426, 570000: 1371, 600000: 1278, 590000: 1217, 620000: 1068, 610000: 1023, 640000: 964, 630000: 918, 650000: 862, 660000: 788, 680000: 752, 50000: 751, 670000: 744, 690000: 694, 700000: 665, 720000: 634, 30000: 576, 710000: 533, 740000: 521, 730000: 516, 40000: 486, 760000: 445, 750000: 441, 770000: 383, 780000: 376, 800000: 360, 790000: 332, 820000: 306, 810000: 300, 830000: 272, 840000: 271, 880000: 227, 860000: 223, 850000: 211, 870000: 206, 900000: 189, 890000: 188, 920000: 182, 930000: 172, 910000: 170, 940000: 157, 960000: 155, 970000: 154, 950000: 133, 980000: 126, 990000: 114, 1030000: 112, 1040000: 112, 1000000: 109, 1050000: 104, 1020000: 103, 1010000: 102, 1060000: 95, 1100000: 91, 1080000: 89, 1090000: 86, 1140000: 81, 1070000: 81, 1120000: 79, 1110000: 78, 1170000: 75, 1130000: 72, 1200000: 68, 1190000: 68, 1180000: 63, 1210000: 59, 1160000: 57, 1280000: 56, 1150000: 56, 1220000: 55, 1240000: 52, 1290000: 50, 1250000: 50, 1270000: 48, 1360000: 48, 1310000: 48, 1320000: 46, 1230000: 46, 1300000: 45, 1260000: 44, 1460000: 40, 1370000: 37, 1340000: 36, 1420000: 36, 1540000: 34, 1390000: 33, 1350000: 32, 1330000: 32, 1410000: 29, 1380000: 28, 1470000: 27, 1520000: 26, 1510000: 25, 1550000: 25, 1440000: 25, 1450000: 25, 1400000: 25, 1560000: 24, 1500000: 24, 1430000: 24, 1580000: 24, 1600000: 22, 1620000: 21, 1490000: 21, 1480000: 21, 1820000: 20, 1530000: 19, 1870000: 17, 1650000: 16, 1610000: 15, 1760000: 15, 1680000: 15, 1700000: 14, 1900000: 14, 1660000: 14, 1590000: 14, 1740000: 14, 1840000: 14, 1720000: 13, 1640000: 13, 1880000: 13, 1570000: 13, 1860000: 13, 1960000: 12, 1800000: 12, 1750000: 12, 1710000: 12, 1630000: 12, 2040000: 11, 1730000: 11, 1810000: 11, 1980000: 11, 2000000: 10, 1940000: 10, 2080000: 10, 1830000: 10, 1790000: 10, 2600000: 10, 1690000: 9, 1780000: 9, 2220000: 9, 2150000: 9, 2260000: 9, 1850000: 9, 1990000: 9, 2620000: 9, 2050000: 8, 1670000: 8, 2280000: 8, 2060000: 7, 1920000: 7, 2030000: 7, 2120000: 7, 1770000: 7, 2140000: 7, 2440000: 6, 2110000: 6, 2020000: 6, 2580000: 6, 1890000: 6, 2240000: 6, 1930000: 6, 2740000: 5, 1950000: 5, 2190000: 5, 2200000: 5, 2010000: 5, 2100000: 5, 2500000: 5, 2510000: 5, 2420000: 5, 2230000: 4, 2160000: 4, 3450000: 4, 2270000: 4, 3020000: 4, 1970000: 4, 2350000: 4, 3110000: 4, 2690000: 4, 2460000: 4, 2480000: 4, 2330000: 4, 2250000: 4, 2730000: 4, 2410000: 4, 2310000: 4, 2210000: 4, 2090000: 4, 2430000: 3, 2550000: 3, 3200000: 3, 2790000: 3, 3050000: 3, 2590000: 3, 2290000: 3, 2750000: 3, 2960000: 3, 2680000: 3, 3670000: 3, 2660000: 3, 2950000: 3, 2720000: 3, 2170000: 3, 3030000: 3, 3790000: 3, 3800000: 3, 2360000: 3, 2380000: 3, 3240000: 3, 3500000: 3, 2070000: 3, 2300000: 3, 3250000: 3, 2540000: 3, 2570000: 3, 7710000: 3, 3960000: 3, 2180000: 3, 2640000: 3, 2700000: 3, 2450000: 2, 2890000: 2, 2320000: 2, 4970000: 2, 2940000: 2, 3210000: 2, 5470000: 2, 3830000: 2, 2390000: 2, 6860000: 2, 3060000: 2, 2840000: 2, 4000000: 2, 2490000: 2, 3440000: 2, 4860000: 2, 3610000: 2, 1910000: 2, 2630000: 2, 2340000: 2, 3290000: 2, 3940000: 2, 2810000: 2, 7180000: 2, 3130000: 2, 5050000: 2, 5030000: 2, 3190000: 2, 3560000: 2, 4370000: 2, 3320000: 2, 4280000: 2, 2130000: 2, 3180000: 2, 3100000: 2, 3350000: 2, 3870000: 2, 2560000: 2, 5920000: 1, 3430000: 1, 5250000: 1, 8040000: 1, 3040000: 1, 2920000: 1, 6210000: 1, 16190000: 1, 16170000: 1, 7100000: 1, 3690000: 1, 8710000: 1, 6870000: 1, 3390000: 1, 3410000: 1, 4190000: 1, 3920000: 1, 7530000: 1, 6610000: 1, 5140000: 1, 3230000: 1, 13400000: 1, 3730000: 1, 4300000: 1, 2990000: 1, 2520000: 1, 4520000: 1, 2760000: 1, 14450000: 1, 3310000: 1, 13960000: 1, 4830000: 1, 4060000: 1, 4400000: 1, 6980000: 1, 4050000: 1, 3420000: 1, 9030000: 1, 3160000: 1, 10820000: 1, 3550000: 1, 15210000: 1, 4080000: 1, 6230000: 1, 9940000: 1, 18630000: 1, 2830000: 1, 4360000: 1, 8440000: 1, 5880000: 1, 12120000: 1, 8130000: 1, 9140000: 1, 3170000: 1, 3070000: 1, 8350000: 1, 7860000: 1, 3300000: 1, 3740000: 1, 6730000: 1, 16680000: 1, 4230000: 1, 10470000: 1, 3330000: 1, 4020000: 1, 4250000: 1, 12770000: 1, 5400000: 1, 7240000: 1, 15760000: 1, 7470000: 1, 5540000: 1, 4130000: 1, 10710000: 1, 3600000: 1, 5560000: 1, 2860000: 1, 5650000: 1, 22690000: 1, 6570000: 1, 22660000: 1, 8410000: 1, 3700000: 1, 8870000: 1, 3470000: 1, 3640000: 1, 6460000: 1, 7380000: 1, 4460000: 1, 8140000: 1, 6930000: 1, 3360000: 1, 12800000: 1, 4320000: 1, 3400000: 1, 5300000: 1, 12190000: 1, 4380000: 1, 2970000: 1, 3120000: 1, 4870000: 1, 17220000: 1, 3000000: 1, 5330000: 1, 20550000: 1, 4350000: 1, 8240000: 1, 3370000: 1, 3970000: 1, 4720000: 1, 5410000: 1, 6100000: 1, 5100000: 1, 2650000: 1, 2470000: 1, 3340000: 1, 4070000: 1, 7910000: 1, 3580000: 1, 5680000: 1, 4440000: 1, 2370000: 1, 11540000: 1, 7200000: 1, 8120000: 1, 2910000: 1, 8720000: 1, 18820000: 1, 3720000: 1, 18480000: 1, 2850000: 1, 6620000: 1, 2820000: 1, 3280000: 1, 16290000: 1, 3840000: 1, 5960000: 1, 5120000: 1, 13100000: 1, 10070000: 1, 11180000: 1, 18290000: 1, 9770000: 1, 7060000: 1, 12090000: 1, 3080000: 1, 3770000: 1, 12290000: 1, 5840000: 1, 7560000: 1, 6760000: 1, 6640000: 1, 15910000: 1, 7450000: 1, 16200000: 1, 3260000: 1, 3880000: 1, 2670000: 1, 3650000: 1, 2610000: 1, 4740000: 1, 3530000: 1, 5660000: 1, 7270000: 1, 43910000: 1, 4210000: 1, 3150000: 1, 7110000: 1}, 'Prices')"
      ]
     },
     "execution_count": 44,
     "metadata": {},
     "output_type": "execute_result"
    }
   ],
   "source": [
    "# there are is many ways to use the hist information after you have run it through the function (created by the book).\n",
    "# using the variable that we created for the hist (all_hist) see below for all the ways.\n",
    "all_hist"
   ]
  },
  {
   "cell_type": "code",
   "execution_count": 45,
   "metadata": {},
   "outputs": [
    {
     "data": {
      "text/plain": [
       "33285"
      ]
     },
     "execution_count": 45,
     "metadata": {},
     "output_type": "execute_result"
    }
   ],
   "source": [
    "# how frequent is a particular number , in the case below we are looking for what is the count (how many times)for 10000\n",
    "all_hist.Freq(10000)"
   ]
  },
  {
   "cell_type": "code",
   "execution_count": 46,
   "metadata": {},
   "outputs": [
    {
     "data": {
      "text/plain": [
       "33285"
      ]
     },
     "execution_count": 46,
     "metadata": {},
     "output_type": "execute_result"
    }
   ],
   "source": [
    "# this does the same thing as .Freq but using square brackets get to drop the .Freq\n",
    "all_hist[10000]"
   ]
  },
  {
   "cell_type": "code",
   "execution_count": 49,
   "metadata": {},
   "outputs": [
    {
     "data": {
      "text/plain": [
       "dict_keys([10000, 320000, 300000, 340000, 360000, 310000, 350000, 330000, 380000, 370000, 290000, 0, 280000, 160000, 400000, 390000, 270000, 150000, 170000, 260000, 180000, 410000, 420000, 250000, 240000, 140000, 200000, 430000, 190000, 440000, 220000, 210000, 460000, 230000, 450000, 130000, 480000, 470000, 120000, 490000, 500000, 110000, 100000, 510000, 520000, 80000, 90000, 530000, 540000, 70000, 20000, 550000, 560000, 60000, 580000, 570000, 600000, 590000, 620000, 610000, 640000, 630000, 650000, 660000, 680000, 50000, 670000, 690000, 700000, 720000, 30000, 710000, 740000, 730000, 40000, 760000, 750000, 770000, 780000, 800000, 790000, 820000, 810000, 830000, 840000, 880000, 860000, 850000, 870000, 900000, 890000, 920000, 930000, 910000, 940000, 960000, 970000, 950000, 980000, 990000, 1030000, 1040000, 1000000, 1050000, 1020000, 1010000, 1060000, 1100000, 1080000, 1090000, 1140000, 1070000, 1120000, 1110000, 1170000, 1130000, 1200000, 1190000, 1180000, 1210000, 1160000, 1280000, 1150000, 1220000, 1240000, 1290000, 1250000, 1270000, 1360000, 1310000, 1320000, 1230000, 1300000, 1260000, 1460000, 1370000, 1340000, 1420000, 1540000, 1390000, 1350000, 1330000, 1410000, 1380000, 1470000, 1520000, 1510000, 1550000, 1440000, 1450000, 1400000, 1560000, 1500000, 1430000, 1580000, 1600000, 1620000, 1490000, 1480000, 1820000, 1530000, 1870000, 1650000, 1610000, 1760000, 1680000, 1700000, 1900000, 1660000, 1590000, 1740000, 1840000, 1720000, 1640000, 1880000, 1570000, 1860000, 1960000, 1800000, 1750000, 1710000, 1630000, 2040000, 1730000, 1810000, 1980000, 2000000, 1940000, 2080000, 1830000, 1790000, 2600000, 1690000, 1780000, 2220000, 2150000, 2260000, 1850000, 1990000, 2620000, 2050000, 1670000, 2280000, 2060000, 1920000, 2030000, 2120000, 1770000, 2140000, 2440000, 2110000, 2020000, 2580000, 1890000, 2240000, 1930000, 2740000, 1950000, 2190000, 2200000, 2010000, 2100000, 2500000, 2510000, 2420000, 2230000, 2160000, 3450000, 2270000, 3020000, 1970000, 2350000, 3110000, 2690000, 2460000, 2480000, 2330000, 2250000, 2730000, 2410000, 2310000, 2210000, 2090000, 2430000, 2550000, 3200000, 2790000, 3050000, 2590000, 2290000, 2750000, 2960000, 2680000, 3670000, 2660000, 2950000, 2720000, 2170000, 3030000, 3790000, 3800000, 2360000, 2380000, 3240000, 3500000, 2070000, 2300000, 3250000, 2540000, 2570000, 7710000, 3960000, 2180000, 2640000, 2700000, 2450000, 2890000, 2320000, 4970000, 2940000, 3210000, 5470000, 3830000, 2390000, 6860000, 3060000, 2840000, 4000000, 2490000, 3440000, 4860000, 3610000, 1910000, 2630000, 2340000, 3290000, 3940000, 2810000, 7180000, 3130000, 5050000, 5030000, 3190000, 3560000, 4370000, 3320000, 4280000, 2130000, 3180000, 3100000, 3350000, 3870000, 2560000, 5920000, 3430000, 5250000, 8040000, 3040000, 2920000, 6210000, 16190000, 16170000, 7100000, 3690000, 8710000, 6870000, 3390000, 3410000, 4190000, 3920000, 7530000, 6610000, 5140000, 3230000, 13400000, 3730000, 4300000, 2990000, 2520000, 4520000, 2760000, 14450000, 3310000, 13960000, 4830000, 4060000, 4400000, 6980000, 4050000, 3420000, 9030000, 3160000, 10820000, 3550000, 15210000, 4080000, 6230000, 9940000, 18630000, 2830000, 4360000, 8440000, 5880000, 12120000, 8130000, 9140000, 3170000, 3070000, 8350000, 7860000, 3300000, 3740000, 6730000, 16680000, 4230000, 10470000, 3330000, 4020000, 4250000, 12770000, 5400000, 7240000, 15760000, 7470000, 5540000, 4130000, 10710000, 3600000, 5560000, 2860000, 5650000, 22690000, 6570000, 22660000, 8410000, 3700000, 8870000, 3470000, 3640000, 6460000, 7380000, 4460000, 8140000, 6930000, 3360000, 12800000, 4320000, 3400000, 5300000, 12190000, 4380000, 2970000, 3120000, 4870000, 17220000, 3000000, 5330000, 20550000, 4350000, 8240000, 3370000, 3970000, 4720000, 5410000, 6100000, 5100000, 2650000, 2470000, 3340000, 4070000, 7910000, 3580000, 5680000, 4440000, 2370000, 11540000, 7200000, 8120000, 2910000, 8720000, 18820000, 3720000, 18480000, 2850000, 6620000, 2820000, 3280000, 16290000, 3840000, 5960000, 5120000, 13100000, 10070000, 11180000, 18290000, 9770000, 7060000, 12090000, 3080000, 3770000, 12290000, 5840000, 7560000, 6760000, 6640000, 15910000, 7450000, 16200000, 3260000, 3880000, 2670000, 3650000, 2610000, 4740000, 3530000, 5660000, 7270000, 43910000, 4210000, 3150000, 7110000])"
      ]
     },
     "execution_count": 49,
     "metadata": {},
     "output_type": "execute_result"
    }
   ],
   "source": [
    "# .Values() returns the unsorted list of values in the Hist. Not crazy helpful but might help if not understanding the numbers.\n",
    "all_hist.Values()"
   ]
  },
  {
   "cell_type": "code",
   "execution_count": 59,
   "metadata": {},
   "outputs": [
    {
     "data": {
      "text/plain": [
       "[(0, 9492),\n",
       " (10000, 33285),\n",
       " (20000, 1898),\n",
       " (30000, 576),\n",
       " (40000, 486),\n",
       " (50000, 751),\n",
       " (60000, 1541),\n",
       " (70000, 2059),\n",
       " (80000, 2614),\n",
       " (90000, 2308)]"
      ]
     },
     "execution_count": 59,
     "metadata": {},
     "output_type": "execute_result"
    }
   ],
   "source": [
    "# this returns the smallest numbers of the all_hist (which is the assessed values column)\n",
    " all_hist.Smallest(10)"
   ]
  },
  {
   "cell_type": "code",
   "execution_count": 51,
   "metadata": {},
   "outputs": [
    {
     "data": {
      "text/plain": [
       "[(43910000, 1),\n",
       " (22690000, 1),\n",
       " (22660000, 1),\n",
       " (20550000, 1),\n",
       " (18820000, 1),\n",
       " (18630000, 1),\n",
       " (18480000, 1),\n",
       " (18290000, 1),\n",
       " (17220000, 1),\n",
       " (16680000, 1)]"
      ]
     },
     "execution_count": 51,
     "metadata": {},
     "output_type": "execute_result"
    }
   ],
   "source": [
    "# this returns the largest numbers of the all_hist (which is the assessed values column)\n",
    "all_hist.Largest(10)"
   ]
  },
  {
   "cell_type": "markdown",
   "metadata": {},
   "source": [
    "Sweet, that's more helpful. Can we look at how the distribution is for garage vs non-garage?"
   ]
  },
  {
   "cell_type": "code",
   "execution_count": 31,
   "metadata": {},
   "outputs": [
    {
     "data": {
      "image/png": "[encoded data removed]",
      "text/plain": [
       "<Figure size 432x288 with 1 Axes>"
      ]
     },
     "metadata": {
      "needs_background": "light"
     },
     "output_type": "display_data"
    }
   ],
   "source": [
    "#Create double histogram \n",
    "gar_hist = thinkstats2.Hist(garPrice, label=\"Garage\")\n",
    "noGar_hist = thinkstats2.Hist(noGarPrice, label= \"No Garage\")\n",
    "\n",
    "thinkplot.PrePlot(2)\n",
    "thinkplot.Hist(gar_hist, align = \"right\")\n",
    "thinkplot.Hist(noGar_hist, align = \"left\")\n",
    "thinkplot.config(xlabel = 'Price', ylabel = 'Count', xlim=[0, 500000], ylim = [0, 15000])"
   ]
  },
  {
   "cell_type": "code",
   "execution_count": 32,
   "metadata": {},
   "outputs": [
    {
     "data": {
      "image/png": "[encoded data removed]",
      "text/plain": [
       "<Figure size 432x288 with 1 Axes>"
      ]
     },
     "metadata": {
      "needs_background": "light"
     },
     "output_type": "display_data"
    }
   ],
   "source": [
    "# below now show the same hist but with widths so you can see the columns better.\n",
    "gar_hist = thinkstats2.Hist(garPrice, label=\"Garage\")\n",
    "noGar_hist = thinkstats2.Hist(noGarPrice, label= \"No Garage\")\n",
    "\n",
    "width = 4500\n",
    "thinkplot.PrePlot(2)\n",
    "thinkplot.Hist(gar_hist, align = \"right\", width = width)\n",
    "thinkplot.Hist(noGar_hist, align = \"left\", width = width)\n",
    "thinkplot.config(xlabel = 'Price', ylabel = 'Count', xlim=[0, 500000], ylim = [0, 15000])"
   ]
  },
  {
   "cell_type": "markdown",
   "metadata": {},
   "source": [
    "It looks like the \"shape\" (distribution) of the house prices is kind of different for the garage vs. not garage, e.g. the garage ones have a tail that goes out to be really expensive...\n",
    "\n",
    "We can measure this, as it is often a useful thing to know. The variance is a measure of how different each measure is from the mean;\n",
    "var = (sum(val-mean)^2)/(num_records - 1)\n",
    "More varaince, the 'farther' the average value is from the mean, or the more spread out the data is. "
   ]
  },
  {
   "cell_type": "code",
   "execution_count": 33,
   "metadata": {},
   "outputs": [
    {
     "name": "stdout",
     "output_type": "stream",
     "text": [
      "80545495950.1769\n",
      "42612776828.571335\n",
      "98580391294.45813\n"
     ]
    }
   ],
   "source": [
    "#What is the variance of each set?\n",
    "print(allPrice.var())\n",
    "print(garPrice.var())\n",
    "print(noGarPrice.var())"
   ]
  },
  {
   "cell_type": "markdown",
   "metadata": {},
   "source": [
    "The varaince gives us an idea of which dataset is more or less spread out, but for individual values, it isn't that useful.\n",
    "\n",
    "We also have the standard deviation, which is more useful overall. It is just the square root of the varaiance. \n",
    "\n",
    "The standard deviation is (kind of) how far away from the mean we expect a typical value to be. E.g. if the average male is 6 feet tall and the standard deviation is 1 inch, we can expect the typical person to be around 5'11\" to 6'1\", pretty tightly grouped. If the standard deviation is 4 inches, we'd expect the heights to be much more varied - around 5.8 to 6.4. \n"
   ]
  },
  {
   "cell_type": "code",
   "execution_count": 34,
   "metadata": {},
   "outputs": [
    {
     "name": "stdout",
     "output_type": "stream",
     "text": [
      "283805.3839344435\n",
      "206428.6240533791\n",
      "313975.1443895808\n"
     ]
    }
   ],
   "source": [
    "#Calculate standard deviation of each set\n",
    "print(allPrice.std())\n",
    "print(garPrice.std())\n",
    "print(noGarPrice.std())"
   ]
  },
  {
   "cell_type": "markdown",
   "metadata": {},
   "source": [
    "Based of of what we can see in the histograms and the standard deviation, is there anything that we can do to make our analysis a little bit better?\n",
    "\n",
    "Remember, I want a home - can I really buy one on the far left of the histogram? What's up there?"
   ]
  },
  {
   "cell_type": "code",
   "execution_count": 41,
   "metadata": {},
   "outputs": [
    {
     "data": {
      "image/png": "[encoded data removed]",
      "text/plain": [
       "<Figure size 432x288 with 1 Axes>"
      ]
     },
     "metadata": {
      "needs_background": "light"
     },
     "output_type": "display_data"
    }
   ],
   "source": [
    "#Filter out 0ish prices or any price you feel i too low to be good data.\n",
    "filt = allPrice[allPrice > 50000]\n",
    "filtHist= thinkstats2.Hist(filt, label= \"Prices\")\n",
    "thinkplot.PrePlot(1)\n",
    "thinkplot.Hist(filtHist)\n",
    "thinkplot.Config(xlabel = 'price', ylabel = 'count', xlim=[0,1000000], ylim= [0, 15000])"
   ]
  },
  {
   "cell_type": "code",
   "execution_count": 36,
   "metadata": {},
   "outputs": [
    {
     "name": "stdout",
     "output_type": "stream",
     "text": [
      "278640.9606772231\n",
      "349524.14509858494\n"
     ]
    }
   ],
   "source": [
    "print(filt.std())\n",
    "print(filt.mean())"
   ]
  },
  {
   "cell_type": "markdown",
   "metadata": {},
   "source": [
    "What about the baller houses? There's a few that are really expensive, look more at those that are at least 1 million. "
   ]
  },
  {
   "cell_type": "code",
   "execution_count": 43,
   "metadata": {},
   "outputs": [
    {
     "data": {
      "image/png": "[encoded data removed]",
      "text/plain": [
       "<Figure size 432x288 with 1 Axes>"
      ]
     },
     "metadata": {
      "needs_background": "light"
     },
     "output_type": "display_data"
    }
   ],
   "source": [
    "#Hist of homes over 1 million\n",
    "richHouses = round(df[df[\"Assessed Value\"]>1000000],-4)\n",
    "richHist = thinkstats2.Hist(richHouses[\"Assessed Value\"], label= \"Prices\")\n",
    "thinkplot.PrePlot(1)\n",
    "thinkplot.Hist(richHist)\n",
    "thinkplot.Config(xlabel=\"price\", ylabel=\"count\", xlim=[900000, 5000000], ylim=[0, 110])"
   ]
  },
  {
   "cell_type": "markdown",
   "metadata": {},
   "source": [
    "Helpful!! Thanks so much. Here's some other things to try..."
   ]
  },
  {
   "cell_type": "code",
   "execution_count": null,
   "metadata": {},
   "outputs": [],
   "source": [
    "#Choose two neighborhoods (maybe one you live in, and one you'd like). Calculate the effect size between the two, and graph\n",
    "#the histogram of both. Does this match your real life understanding? "
   ]
  },
  {
   "cell_type": "code",
   "execution_count": null,
   "metadata": {},
   "outputs": [],
   "source": [
    "#The non-garage homes look realllllllly cheap. Is there anything that can explain this?\n",
    "#Is there anything that can be done to make our analysis more representative? "
   ]
  },
  {
   "cell_type": "markdown",
   "metadata": {},
   "source": [
    "Lastly... functions. What if I was a 'Murican and wanted to see prices in freedom dollars?\n",
    "Create a function to do that (convert CAD to USD).\n",
    "Assume a static exchange rate of 1CAD =.79USD"
   ]
  },
  {
   "cell_type": "code",
   "execution_count": null,
   "metadata": {},
   "outputs": [],
   "source": [
    "def cadUSD(cadDollars):\n",
    "    #Add code here, so that the usDollars variable is just that.\n",
    "    #Try to use this somewhere in your code.\n",
    "    usDollars = 0\n",
    "    return usDollars"
   ]
  }
 ],
 "metadata": {
  "interpreter": {
   "hash": "e660af3098993ea5160fd9270f74e6db286e749e474b6bbf115c5a1892218496"
  },
  "kernelspec": {
   "display_name": "Python 3.8.8 64-bit ('base': conda)",
   "name": "python3"
  },
  "language_info": {
   "codemirror_mode": {
    "name": "ipython",
    "version": 3
   },
   "file_extension": ".py",
   "mimetype": "text/x-python",
   "name": "python",
   "nbconvert_exporter": "python",
   "pygments_lexer": "ipython3",
   "version": "3.8.8"
  },
  "orig_nbformat": 4
 },
 "nbformat": 4,
 "nbformat_minor": 2
}
