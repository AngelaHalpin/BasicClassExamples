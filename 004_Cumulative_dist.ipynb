{
 "cells": [
  {
   "cell_type": "markdown",
   "metadata": {},
   "source": [
    "We will use the athlete data from the previous noptebook. \n",
    "Load it into 2 arrays again. "
   ]
  },
  {
   "cell_type": "code",
   "execution_count": 3,
   "metadata": {},
   "outputs": [],
   "source": [
    "import thinkplot\n",
    "import thinkstats2\n",
    "import pandas as pd\n",
    "import numpy as np"
   ]
  },
  {
   "cell_type": "code",
   "execution_count": 4,
   "metadata": {},
   "outputs": [],
   "source": [
    "#PLEASE TAKE A LOOK AT THE NOTE IN THE COMMENTS IN THIS BLOCK.\n",
    "dfNBA = pd.read_csv(\"NBA.csv\")\n",
    "dfNFL = pd.read_csv(\"NFL.csv\")\n",
    "\n",
    "#Take the height column and make a 1D dataframe, with only 1 column\n",
    "nba = dfNBA[\"Height\"]\n",
    "nfl = dfNFL[\"Height (inches)\"]\n",
    "#################################################################\n",
    "#Note: Originally when I showed this, the above two lines were slightly different. \n",
    "#They were (with the A added, obviously):\n",
    "nbaA = np.array(dfNBA[\"Height\"])\n",
    "nflA = np.array(dfNFL[\"Height (inches)\"])\n",
    "#This code makes a slightly different data structure - a numpy array. \n",
    "#An array is a 1D data structure - effectively just a big list. \n",
    "#The code below works basically the same with either. That's because both are \"iterable\"\n",
    "#That means (basically), something that has can give values one at a time. \n",
    "#Functions below can take either, with little/no change, or they can take a pandas Series\n",
    "#Which is kind of a pandas take on an array. I point this out for a few reasons:\n",
    "# - Examples will sometimes show different data structures, and the rest of the code doesn't really change.\n",
    "# - Some things will need other data structures, most notably ML needs arrays.\n",
    "#We don't need to understand the problem differently when different data structures are used.\n",
    "#It is basically like getting groceries with a bin, a reusable bag, or a plastic bag.\n",
    "#The all allow us to do the same thing (grocery shop/Machine Learn), and they can be used\n",
    "#Largely interchabably. Sometimes one is better than the other for a specific task. \n",
    "#This type of thing is very common - you can do anything you want in code, so there are almost\n",
    "#Always more than one way to do something. Flexible, but confusing. \n",
    "\n",
    "#Dump the non-numbers\n",
    "nba = nba[~np.isnan(nba)]\n",
    "nfl = nfl[~np.isnan(nfl)]"
   ]
  },
  {
   "cell_type": "markdown",
   "metadata": {},
   "source": [
    "Check to make sure that the data loaded and is good to go."
   ]
  },
  {
   "cell_type": "code",
   "execution_count": 5,
   "metadata": {},
   "outputs": [
    {
     "name": "stdout",
     "output_type": "stream",
     "text": [
      "NBA Mean Height: 197.44075829383885\n",
      "NFL Mean Height: 73.50839891929989\n"
     ]
    }
   ],
   "source": [
    "#Check the means\n",
    "print(\"NBA Mean Height: \"+str(np.mean(nba)))\n",
    "print(\"NFL Mean Height: \"+str(np.mean(nfl)))"
   ]
  },
  {
   "cell_type": "code",
   "execution_count": 6,
   "metadata": {},
   "outputs": [
    {
     "data": {
      "text/plain": [
       "0        180.34\n",
       "1        177.80\n",
       "2        187.96\n",
       "3        185.42\n",
       "4        195.58\n",
       "          ...  \n",
       "17167    180.34\n",
       "17168    190.50\n",
       "17169    182.88\n",
       "17170    185.42\n",
       "17171    185.42\n",
       "Name: Height (inches), Length: 17026, dtype: float64"
      ]
     },
     "execution_count": 6,
     "metadata": {},
     "output_type": "execute_result"
    }
   ],
   "source": [
    "#Correct the heights to cm, so they are the same as NBA\n",
    "#This .apply() applies the function inside to an entire DF\n",
    "#The \"lambda x\" basically means \"grab each row one by one, and that row is (temporarily) x\"\n",
    "#The part after the colon means \"take x, and do this to it\"\n",
    "#So this will, more or less, grab each row, and do the function after the colon, one row at a time.\n",
    "nfl = nfl.apply(lambda x: x*2.54)\n",
    "nfl"
   ]
  },
  {
   "cell_type": "markdown",
   "metadata": {},
   "source": [
    "The previous 2 methods of looking at the distribution showed us versions of \"how many of X are Y\" - e.g. how many players are 187cm tall. \n",
    "\n",
    "We may also want/need to look at cumulative measurements - \"how many of X are over/under Y\" - e.g. how many players are over 215cm, or under 172.523cm. Enter percentiles...\n",
    "\n",
    "Percentiles measure how far along the scale a value is - how many items a value is larger than, and the inverse, how many are higher than it. E.g. if you are in a class of 10 people, and you are the second tallest, you are in the 90th percentile of height - 90% of people in that sample are the same or shorter than you; the remaining 10% are taller. If you've been scored on a standardized test, you've probably gotten some kind of number like this. (The book has a more thorough explationation of percentile stuff)\n",
    "\n",
    "In order to calculate things, we need two functions that are basically inverses of eachother. Percentile rank takes in a value and calculates what percentile that is in. Percentile does the opposite, takes in a percentile, and calculates the value. (Read the book on this, it has the details)\n",
    "Percentile rank: value->ranking on percentile scale. e.g. I scored 72%, and the function tells me I'm in the 80th percentile. \n",
    "percentile: ranking->value. e.g. I'm in the 64th percentile of my graduating class, that means I have a 3.1 GPA."
   ]
  },
  {
   "cell_type": "code",
   "execution_count": 7,
   "metadata": {},
   "outputs": [],
   "source": [
    "#The percentile functions\n",
    "def PercentileRank(scores, your_score):\n",
    "    count = 0\n",
    "    for score in scores:\n",
    "        if score <= your_score:\n",
    "            count += 1\n",
    "\n",
    "    percentile_rank = 100.0 * count / len(scores)\n",
    "    return percentile_rank\n",
    "\n",
    "def Percentile2(scores, percentile_rank):\n",
    "    scores.sort()\n",
    "    index = percentile_rank * (len(scores)-1) // 100\n",
    "    return scores[index]\n",
    "\n",
    "def EvalCdf(sample, x):\n",
    "    count = 0.0\n",
    "    for value in sample:\n",
    "        if value <= x:\n",
    "            count += 1\n",
    "\n",
    "    prob = count / len(sample)\n",
    "    return prob"
   ]
  },
  {
   "cell_type": "markdown",
   "metadata": {},
   "source": [
    "The CDF is basically a different look at the percentile rank - given a value, how far \"up the scale\" are we."
   ]
  },
  {
   "cell_type": "code",
   "execution_count": 8,
   "metadata": {},
   "outputs": [
    {
     "data": {
      "image/png": "[encoded data removed]",
      "text/plain": [
       "<Figure size 432x288 with 1 Axes>"
      ]
     },
     "metadata": {
      "needs_background": "light"
     },
     "output_type": "display_data"
    },
    {
     "data": {
      "text/plain": [
       "<Figure size 576x432 with 0 Axes>"
      ]
     },
     "metadata": {},
     "output_type": "display_data"
    }
   ],
   "source": [
    "#Simple dummy example\n",
    "#Pretend these are weights in pounds\n",
    "sample = thinkstats2.Cdf([105,235,153,194,175,206,167,188,179,108,247,269,247])\n",
    "thinkplot.Cdf(sample)\n",
    "thinkplot.Show(xlabel=\"Weight (lb)\")"
   ]
  },
  {
   "cell_type": "markdown",
   "metadata": {},
   "source": [
    "We can read these CDF graphs like this... If I am 225lb, I can look that up on the x-axis. The corresponding y value is my percentile rank - I'm in apx the 70th percentile, or I'm heavier than about 70% of the people in the sample. \n",
    "\n",
    "How does the shape of a CDF relate to the shape of a PDF? With different standard deviations? Create a CDF with the numbers 1-10, what does that look like? What can you infer about the distribution?"
   ]
  },
  {
   "cell_type": "code",
   "execution_count": 9,
   "metadata": {},
   "outputs": [
    {
     "data": {
      "image/png": "[encoded data removed]",
      "text/plain": [
       "<Figure size 432x288 with 1 Axes>"
      ]
     },
     "metadata": {
      "needs_background": "light"
     },
     "output_type": "display_data"
    },
    {
     "data": {
      "text/plain": [
       "<Figure size 576x432 with 0 Axes>"
      ]
     },
     "metadata": {},
     "output_type": "display_data"
    }
   ],
   "source": [
    "sample2 = thinkstats2.Cdf([1,2,3,4,5,6,7,8,9,10])\n",
    "thinkplot.Cdf(sample2)\n",
    "thinkplot.Show(xlabel=\"Numbers\")"
   ]
  },
  {
   "cell_type": "markdown",
   "metadata": {},
   "source": [
    "Create a CDF for both the NBA and NFL heights. How does that relate back to the histograms? "
   ]
  },
  {
   "cell_type": "code",
   "execution_count": 18,
   "metadata": {},
   "outputs": [
    {
     "data": {
      "image/png": "[encoded data removed]",
      "text/plain": [
       "<Figure size 432x288 with 1 Axes>"
      ]
     },
     "metadata": {
      "needs_background": "light"
     },
     "output_type": "display_data"
    },
    {
     "data": {
      "text/plain": [
       "<Figure size 576x432 with 0 Axes>"
      ]
     },
     "metadata": {},
     "output_type": "display_data"
    }
   ],
   "source": [
    "#Create and show CDF of NBA heights\n",
    "nbaACDF = thinkstats2.Cdf(nbaA)\n",
    "thinkplot.Cdf(nbaACDF)\n",
    "thinkplot.Show(xlabel= \"Height\")"
   ]
  },
  {
   "cell_type": "code",
   "execution_count": 21,
   "metadata": {},
   "outputs": [
    {
     "data": {
      "image/png": "[encoded data removed]",
      "text/plain": [
       "<Figure size 432x288 with 1 Axes>"
      ]
     },
     "metadata": {
      "needs_background": "light"
     },
     "output_type": "display_data"
    },
    {
     "data": {
      "text/plain": [
       "<Figure size 576x432 with 0 Axes>"
      ]
     },
     "metadata": {},
     "output_type": "display_data"
    }
   ],
   "source": [
    "#Create and show CDF of NFL heights\n",
    "nflACDF = thinkstats2.Cdf(nflA)\n",
    "thinkplot.Cdf(nflACDF)\n",
    "thinkplot.Show(xlabels = \"Height\")"
   ]
  },
  {
   "cell_type": "markdown",
   "metadata": {},
   "source": [
    "Ok, we can run some calculations. "
   ]
  },
  {
   "cell_type": "code",
   "execution_count": 22,
   "metadata": {},
   "outputs": [
    {
     "data": {
      "image/png": "[encoded data removed]",
      "text/plain": [
       "<Figure size 432x288 with 1 Axes>"
      ]
     },
     "metadata": {
      "needs_background": "light"
     },
     "output_type": "display_data"
    },
    {
     "data": {
      "image/png": "[encoded data removed]",
      "text/plain": [
       "<Figure size 576x432 with 1 Axes>"
      ]
     },
     "metadata": {
      "needs_background": "light"
     },
     "output_type": "display_data"
    },
    {
     "data": {
      "text/plain": [
       "<Figure size 576x432 with 0 Axes>"
      ]
     },
     "metadata": {},
     "output_type": "display_data"
    }
   ],
   "source": [
    "#Note: The reason for this conversion and rounding is so that there are more results for each\n",
    "#value because inches are \"bigger\". This isn't \"needed\", but it makes this more demonstrative\n",
    "\n",
    "#Make both into inches, round to 1 inch\n",
    "#The reason for this is to make more results fall in each number, so some demos are easier.\n",
    "nbaIn = nba.apply(lambda x: x/2.54)\n",
    "nflIn = nfl.apply(lambda x: x/2.54)\n",
    "nbaIn = round(nbaIn, 0)\n",
    "nflIn = round(nflIn, 0)\n",
    "#Make CDF objects with the rounded stuff\n",
    "nbaRounded = thinkstats2.Cdf(nbaIn)\n",
    "nflRounded = thinkstats2.Cdf(nflIn)\n",
    "thinkplot.Cdf(nbaRounded)\n",
    "thinkplot.Show(xlabel=\"Height\")\n",
    "thinkplot.Cdf(nflRounded)\n",
    "thinkplot.Show(xlabel=\"Height\")"
   ]
  },
  {
   "cell_type": "code",
   "execution_count": 13,
   "metadata": {},
   "outputs": [
    {
     "data": {
      "text/plain": [
       "count    17026.000000\n",
       "mean        73.508399\n",
       "std          2.577632\n",
       "min         61.000000\n",
       "25%         72.000000\n",
       "50%         74.000000\n",
       "75%         75.000000\n",
       "max         82.000000\n",
       "Name: Height (inches), dtype: float64"
      ]
     },
     "execution_count": 13,
     "metadata": {},
     "output_type": "execute_result"
    }
   ],
   "source": [
    "nflIn.describe()"
   ]
  },
  {
   "cell_type": "code",
   "execution_count": 14,
   "metadata": {},
   "outputs": [
    {
     "name": "stdout",
     "output_type": "stream",
     "text": [
      "73.9%\n",
      "62.3%\n"
     ]
    }
   ],
   "source": [
    "#E.g. What is the probability that someone in the NBA is 80in tall\n",
    "nbaRounded.Prob(80)\n",
    "#And if we want to see in in pretty printing\n",
    "print(str(round(nbaRounded.Prob(80), 3)*100)+\"%\")\n",
    "\n",
    "#And if someone is over 74in in the NFL?\n",
    "#Think about why there's the extra math in there.\n",
    "res = PercentileRank(nflIn, 74)\n",
    "print(str(round((1-res), 1)*-1)+\"%\")"
   ]
  },
  {
   "cell_type": "code",
   "execution_count": 15,
   "metadata": {},
   "outputs": [],
   "source": [
    "#Using the Percentile/Rank functions, and the CDF functions on pg 49 of the book\n",
    "#Can you look for anything interesting in the data?\n",
    "#Who's over X, who's under? How you'd your height score on the scale?\n",
    "#If someone is in the top 20% of NFL height, how to they rank in the NBA?\n",
    "#How many people are shorter than you (or a friend) in either leauge?"
   ]
  }
 ],
 "metadata": {
  "interpreter": {
   "hash": "e660af3098993ea5160fd9270f74e6db286e749e474b6bbf115c5a1892218496"
  },
  "kernelspec": {
   "display_name": "Python 3.8.8 64-bit ('base': conda)",
   "name": "python3"
  },
  "language_info": {
   "codemirror_mode": {
    "name": "ipython",
    "version": 3
   },
   "file_extension": ".py",
   "mimetype": "text/x-python",
   "name": "python",
   "nbconvert_exporter": "python",
   "pygments_lexer": "ipython3",
   "version": "3.8.8"
  },
  "orig_nbformat": 4
 },
 "nbformat": 4,
 "nbformat_minor": 2
}
